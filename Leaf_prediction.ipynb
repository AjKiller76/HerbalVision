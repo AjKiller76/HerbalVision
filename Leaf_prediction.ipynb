{
  "nbformat": 4,
  "nbformat_minor": 0,
  "metadata": {
    "colab": {
      "provenance": [],
      "authorship_tag": "ABX9TyNlInniMdtkxez0kABLrwAA",
      "include_colab_link": true
    },
    "kernelspec": {
      "name": "python3",
      "display_name": "Python 3"
    },
    "language_info": {
      "name": "python"
    }
  },
  "cells": [
    {
      "cell_type": "markdown",
      "metadata": {
        "id": "view-in-github",
        "colab_type": "text"
      },
      "source": [
        "<a href=\"https://colab.research.google.com/github/AjKiller76/Task1/blob/main/Leaf_prediction.ipynb\" target=\"_parent\"><img src=\"https://colab.research.google.com/assets/colab-badge.svg\" alt=\"Open In Colab\"/></a>"
      ]
    },
    {
      "cell_type": "code",
      "execution_count": null,
      "metadata": {
        "colab": {
          "base_uri": "https://localhost:8080/"
        },
        "id": "g9g55IA4edOp",
        "outputId": "cb963432-0ab9-45b3-8411-95d7912cb4c2"
      },
      "outputs": [
        {
          "output_type": "stream",
          "name": "stdout",
          "text": [
            "Epoch 1/10\n",
            "4/4 [==============================] - 8s 1s/step - loss: 106.9106 - accuracy: 0.2333 - val_loss: 20.9405 - val_accuracy: 0.2333\n",
            "Epoch 2/10\n",
            "4/4 [==============================] - 5s 1s/step - loss: 9.0902 - accuracy: 0.2917 - val_loss: 2.3271 - val_accuracy: 0.5000\n",
            "Epoch 3/10\n",
            "4/4 [==============================] - 6s 2s/step - loss: 1.8479 - accuracy: 0.4167 - val_loss: 0.9985 - val_accuracy: 0.8000\n",
            "Epoch 4/10\n",
            "4/4 [==============================] - 5s 1s/step - loss: 0.9888 - accuracy: 0.6333 - val_loss: 0.7103 - val_accuracy: 0.8000\n",
            "Epoch 5/10\n",
            "4/4 [==============================] - 6s 2s/step - loss: 0.4231 - accuracy: 0.9000 - val_loss: 0.5122 - val_accuracy: 0.8667\n",
            "Epoch 6/10\n",
            "4/4 [==============================] - 5s 1s/step - loss: 0.2156 - accuracy: 0.9000 - val_loss: 0.1498 - val_accuracy: 0.9333\n",
            "Epoch 7/10\n",
            "4/4 [==============================] - 6s 2s/step - loss: 0.1097 - accuracy: 0.9750 - val_loss: 0.0676 - val_accuracy: 1.0000\n",
            "Epoch 8/10\n",
            "4/4 [==============================] - 5s 1s/step - loss: 0.0571 - accuracy: 0.9833 - val_loss: 0.0404 - val_accuracy: 1.0000\n",
            "Epoch 9/10\n",
            "4/4 [==============================] - 5s 1s/step - loss: 0.0495 - accuracy: 0.9833 - val_loss: 0.0184 - val_accuracy: 1.0000\n",
            "Epoch 10/10\n",
            "4/4 [==============================] - 6s 2s/step - loss: 0.0070 - accuracy: 1.0000 - val_loss: 0.0996 - val_accuracy: 0.9667\n"
          ]
        },
        {
          "output_type": "stream",
          "name": "stderr",
          "text": [
            "/usr/local/lib/python3.10/dist-packages/keras/src/engine/training.py:3103: UserWarning: You are saving your model as an HDF5 file via `model.save()`. This file format is considered legacy. We recommend using instead the native Keras format, e.g. `model.save('my_model.keras')`.\n",
            "  saving_api.save_model(\n"
          ]
        }
      ],
      "source": [
        "import numpy as np\n",
        "import pandas as pd\n",
        "from sklearn.model_selection import train_test_split\n",
        "from sklearn.preprocessing import LabelEncoder\n",
        "from tensorflow.keras.models import Sequential\n",
        "from tensorflow.keras.layers import Conv2D, MaxPooling2D, Flatten, Dense\n",
        "from tensorflow.keras.preprocessing.image import load_img, img_to_array\n",
        "\n",
        "# Loading the dataset from CSV\n",
        "data = pd.read_csv('Leaf_1.csv')\n",
        "\n",
        "# Extract file paths and labels\n",
        "file_paths = data['file_path'].values\n",
        "labels = data['label'].values\n",
        "\n",
        "# Load and preprocessing images\n",
        "images = []\n",
        "for path in file_paths:\n",
        "    img = load_img(path, target_size=(150, 150))\n",
        "    img_array = img_to_array(img)\n",
        "    images.append(img_array)\n",
        "\n",
        "X = np.array(images)\n",
        "y = labels\n",
        "\n",
        "# Converting labels to one-hot encoding\n",
        "label_encoder = LabelEncoder()\n",
        "y = label_encoder.fit_transform(y)\n",
        "\n",
        "# Spliting the data into training and testing sets\n",
        "X_train, X_test, y_train, y_test = train_test_split(X, y, test_size=0.2, random_state=42)\n",
        "\n",
        "# Defineing CNN model\n",
        "model = Sequential([\n",
        "    Conv2D(32, (3, 3), activation='relu', input_shape=(150, 150, 3)),\n",
        "    MaxPooling2D(2, 2),\n",
        "    Conv2D(64, (3, 3), activation='relu'),\n",
        "    MaxPooling2D(2, 2),\n",
        "    Conv2D(128, (3, 3), activation='relu'),\n",
        "    MaxPooling2D(2, 2),\n",
        "    Conv2D(128, (3, 3), activation='relu'),\n",
        "    MaxPooling2D(2, 2),\n",
        "    Flatten(),\n",
        "    Dense(512, activation='relu'),\n",
        "    Dense(np.unique(y).size, activation='softmax')\n",
        "])\n",
        "\n",
        "# Compiling model\n",
        "model.compile(optimizer='adam', loss='sparse_categorical_crossentropy', metrics=['accuracy'])\n",
        "\n",
        "# Training the model\n",
        "model.fit(X_train, y_train, epochs=10, batch_size=32, validation_data=(X_test, y_test))\n",
        "model.save('leaf_classification.h5')"
      ]
    },
    {
      "cell_type": "code",
      "source": [
        "from tensorflow.keras.models import load_model\n",
        "from tensorflow.keras.preprocessing.image import load_img, img_to_array\n",
        "import numpy as np\n",
        "\n",
        "# Loading the trained model# Replace 'leaf_classification_model.h5' with the path to your trained model file\n",
        "model=load_model('leaf_classification.h5')\n",
        "# Loading and preprocessing the input leaf image\n",
        "leaf_image_path = '/content/FR-S-042.jpg'\n",
        "img = load_img(leaf_image_path, target_size=(150, 150))\n",
        "img_array = img_to_array(img)\n",
        "img_array = np.expand_dims(img_array, axis=0)\n",
        "\n",
        "# Make predictions\n",
        "predictions = model.predict(img_array)\n",
        "predicted_class_index = np.argmax(predictions)\n",
        "predicted_class=label_encoder.classes_[predicted_class_index]\n",
        "print('Predicted class:',predicted_class)"
      ],
      "metadata": {
        "id": "ziMzn1N_sMQa",
        "colab": {
          "base_uri": "https://localhost:8080/"
        },
        "outputId": "7bc8b4cc-1a5e-488c-edc6-1ae07a37f198"
      },
      "execution_count": null,
      "outputs": [
        {
          "output_type": "stream",
          "name": "stderr",
          "text": [
            "WARNING:tensorflow:5 out of the last 5 calls to <function Model.make_predict_function.<locals>.predict_function at 0x7857c37e4dc0> triggered tf.function retracing. Tracing is expensive and the excessive number of tracings could be due to (1) creating @tf.function repeatedly in a loop, (2) passing tensors with different shapes, (3) passing Python objects instead of tensors. For (1), please define your @tf.function outside of the loop. For (2), @tf.function has reduce_retracing=True option that can avoid unnecessary retracing. For (3), please refer to https://www.tensorflow.org/guide/function#controlling_retracing and https://www.tensorflow.org/api_docs/python/tf/function for  more details.\n"
          ]
        },
        {
          "output_type": "stream",
          "name": "stdout",
          "text": [
            "1/1 [==============================] - 0s 178ms/step\n",
            "Predicted class: Peepal\n"
          ]
        }
      ]
    },
    {
      "cell_type": "code",
      "source": [],
      "metadata": {
        "id": "-eTQLYs_Lpyh"
      },
      "execution_count": null,
      "outputs": []
    }
  ]
}